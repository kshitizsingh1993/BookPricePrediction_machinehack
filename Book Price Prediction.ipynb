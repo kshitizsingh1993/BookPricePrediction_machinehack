{
 "cells": [
  {
   "cell_type": "code",
   "execution_count": 1,
   "metadata": {},
   "outputs": [],
   "source": [
    "import pandas as pd"
   ]
  },
  {
   "cell_type": "code",
   "execution_count": 47,
   "metadata": {},
   "outputs": [],
   "source": [
    "df= pd.read_excel('Data_Train.xlsx')"
   ]
  },
  {
   "cell_type": "code",
   "execution_count": 48,
   "metadata": {},
   "outputs": [
    {
     "data": {
      "text/html": [
       "<div>\n",
       "<style scoped>\n",
       "    .dataframe tbody tr th:only-of-type {\n",
       "        vertical-align: middle;\n",
       "    }\n",
       "\n",
       "    .dataframe tbody tr th {\n",
       "        vertical-align: top;\n",
       "    }\n",
       "\n",
       "    .dataframe thead th {\n",
       "        text-align: right;\n",
       "    }\n",
       "</style>\n",
       "<table border=\"1\" class=\"dataframe\">\n",
       "  <thead>\n",
       "    <tr style=\"text-align: right;\">\n",
       "      <th></th>\n",
       "      <th>Title</th>\n",
       "      <th>Author</th>\n",
       "      <th>Edition</th>\n",
       "      <th>Reviews</th>\n",
       "      <th>Ratings</th>\n",
       "      <th>Synopsis</th>\n",
       "      <th>Genre</th>\n",
       "      <th>BookCategory</th>\n",
       "      <th>Price</th>\n",
       "    </tr>\n",
       "  </thead>\n",
       "  <tbody>\n",
       "    <tr>\n",
       "      <th>0</th>\n",
       "      <td>The Prisoner's Gold (The Hunters 3)</td>\n",
       "      <td>Chris Kuzneski</td>\n",
       "      <td>Paperback,– 10 Mar 2016</td>\n",
       "      <td>4.0 out of 5 stars</td>\n",
       "      <td>8 customer reviews</td>\n",
       "      <td>THE HUNTERS return in their third brilliant no...</td>\n",
       "      <td>Action &amp; Adventure (Books)</td>\n",
       "      <td>Action &amp; Adventure</td>\n",
       "      <td>220.00</td>\n",
       "    </tr>\n",
       "    <tr>\n",
       "      <th>1</th>\n",
       "      <td>Guru Dutt: A Tragedy in Three Acts</td>\n",
       "      <td>Arun Khopkar</td>\n",
       "      <td>Paperback,– 7 Nov 2012</td>\n",
       "      <td>3.9 out of 5 stars</td>\n",
       "      <td>14 customer reviews</td>\n",
       "      <td>A layered portrait of a troubled genius for wh...</td>\n",
       "      <td>Cinema &amp; Broadcast (Books)</td>\n",
       "      <td>Biographies, Diaries &amp; True Accounts</td>\n",
       "      <td>202.93</td>\n",
       "    </tr>\n",
       "    <tr>\n",
       "      <th>2</th>\n",
       "      <td>Leviathan (Penguin Classics)</td>\n",
       "      <td>Thomas Hobbes</td>\n",
       "      <td>Paperback,– 25 Feb 1982</td>\n",
       "      <td>4.8 out of 5 stars</td>\n",
       "      <td>6 customer reviews</td>\n",
       "      <td>\"During the time men live without a common Pow...</td>\n",
       "      <td>International Relations</td>\n",
       "      <td>Humour</td>\n",
       "      <td>299.00</td>\n",
       "    </tr>\n",
       "    <tr>\n",
       "      <th>3</th>\n",
       "      <td>A Pocket Full of Rye (Miss Marple)</td>\n",
       "      <td>Agatha Christie</td>\n",
       "      <td>Paperback,– 5 Oct 2017</td>\n",
       "      <td>4.1 out of 5 stars</td>\n",
       "      <td>13 customer reviews</td>\n",
       "      <td>A handful of grain is found in the pocket of a...</td>\n",
       "      <td>Contemporary Fiction (Books)</td>\n",
       "      <td>Crime, Thriller &amp; Mystery</td>\n",
       "      <td>180.00</td>\n",
       "    </tr>\n",
       "    <tr>\n",
       "      <th>4</th>\n",
       "      <td>LIFE 70 Years of Extraordinary Photography</td>\n",
       "      <td>Editors of Life</td>\n",
       "      <td>Hardcover,– 10 Oct 2006</td>\n",
       "      <td>5.0 out of 5 stars</td>\n",
       "      <td>1 customer review</td>\n",
       "      <td>For seven decades, \"Life\" has been thrilling t...</td>\n",
       "      <td>Photography Textbooks</td>\n",
       "      <td>Arts, Film &amp; Photography</td>\n",
       "      <td>965.62</td>\n",
       "    </tr>\n",
       "    <tr>\n",
       "      <th>...</th>\n",
       "      <td>...</td>\n",
       "      <td>...</td>\n",
       "      <td>...</td>\n",
       "      <td>...</td>\n",
       "      <td>...</td>\n",
       "      <td>...</td>\n",
       "      <td>...</td>\n",
       "      <td>...</td>\n",
       "      <td>...</td>\n",
       "    </tr>\n",
       "    <tr>\n",
       "      <th>6232</th>\n",
       "      <td>Humans: A Brief History of How We F*cked It Al...</td>\n",
       "      <td>Tom Phillips</td>\n",
       "      <td>Paperback,– 8 Aug 2018</td>\n",
       "      <td>5.0 out of 5 stars</td>\n",
       "      <td>2 customer reviews</td>\n",
       "      <td>'F*cking brilliant' Sarah Knight\\n'Very funny'...</td>\n",
       "      <td>Anthropology (Books)</td>\n",
       "      <td>Humour</td>\n",
       "      <td>322.00</td>\n",
       "    </tr>\n",
       "    <tr>\n",
       "      <th>6233</th>\n",
       "      <td>The Chemist</td>\n",
       "      <td>Stephenie Meyer</td>\n",
       "      <td>Paperback,– 21 Nov 2016</td>\n",
       "      <td>3.3 out of 5 stars</td>\n",
       "      <td>9 customer reviews</td>\n",
       "      <td>In this gripping page-turner, an ex-agent on t...</td>\n",
       "      <td>Contemporary Fiction (Books)</td>\n",
       "      <td>Crime, Thriller &amp; Mystery</td>\n",
       "      <td>421.00</td>\n",
       "    </tr>\n",
       "    <tr>\n",
       "      <th>6234</th>\n",
       "      <td>The Duke And I: Number 1 in series (Bridgerton...</td>\n",
       "      <td>Julia Quinn</td>\n",
       "      <td>Paperback,– 8 Jun 2006</td>\n",
       "      <td>3.8 out of 5 stars</td>\n",
       "      <td>3 customer reviews</td>\n",
       "      <td>'The most refreshing and radiant love story yo...</td>\n",
       "      <td>Romance (Books)</td>\n",
       "      <td>Romance</td>\n",
       "      <td>399.00</td>\n",
       "    </tr>\n",
       "    <tr>\n",
       "      <th>6235</th>\n",
       "      <td>Frostfire (Kanin Chronicles)</td>\n",
       "      <td>Amanda Hocking</td>\n",
       "      <td>Paperback,– 15 Jan 2015</td>\n",
       "      <td>3.5 out of 5 stars</td>\n",
       "      <td>4 customer reviews</td>\n",
       "      <td>Frostfire by Amanda Hocking is the stunning fi...</td>\n",
       "      <td>Action &amp; Adventure (Books)</td>\n",
       "      <td>Action &amp; Adventure</td>\n",
       "      <td>319.00</td>\n",
       "    </tr>\n",
       "    <tr>\n",
       "      <th>6236</th>\n",
       "      <td>The First Order (Sam Capra)</td>\n",
       "      <td>Jeff Abbott</td>\n",
       "      <td>Paperback,– 21 Dec 2016</td>\n",
       "      <td>3.9 out of 5 stars</td>\n",
       "      <td>2 customer reviews</td>\n",
       "      <td>Six years ago, Sam Capra watched his brother, ...</td>\n",
       "      <td>Action &amp; Adventure (Books)</td>\n",
       "      <td>Action &amp; Adventure</td>\n",
       "      <td>452.00</td>\n",
       "    </tr>\n",
       "  </tbody>\n",
       "</table>\n",
       "<p>6237 rows × 9 columns</p>\n",
       "</div>"
      ],
      "text/plain": [
       "                                                  Title           Author  \\\n",
       "0                   The Prisoner's Gold (The Hunters 3)   Chris Kuzneski   \n",
       "1                    Guru Dutt: A Tragedy in Three Acts     Arun Khopkar   \n",
       "2                          Leviathan (Penguin Classics)    Thomas Hobbes   \n",
       "3                    A Pocket Full of Rye (Miss Marple)  Agatha Christie   \n",
       "4            LIFE 70 Years of Extraordinary Photography  Editors of Life   \n",
       "...                                                 ...              ...   \n",
       "6232  Humans: A Brief History of How We F*cked It Al...     Tom Phillips   \n",
       "6233                                        The Chemist  Stephenie Meyer   \n",
       "6234  The Duke And I: Number 1 in series (Bridgerton...      Julia Quinn   \n",
       "6235                       Frostfire (Kanin Chronicles)   Amanda Hocking   \n",
       "6236                        The First Order (Sam Capra)      Jeff Abbott   \n",
       "\n",
       "                      Edition             Reviews              Ratings  \\\n",
       "0     Paperback,– 10 Mar 2016  4.0 out of 5 stars   8 customer reviews   \n",
       "1      Paperback,– 7 Nov 2012  3.9 out of 5 stars  14 customer reviews   \n",
       "2     Paperback,– 25 Feb 1982  4.8 out of 5 stars   6 customer reviews   \n",
       "3      Paperback,– 5 Oct 2017  4.1 out of 5 stars  13 customer reviews   \n",
       "4     Hardcover,– 10 Oct 2006  5.0 out of 5 stars    1 customer review   \n",
       "...                       ...                 ...                  ...   \n",
       "6232   Paperback,– 8 Aug 2018  5.0 out of 5 stars   2 customer reviews   \n",
       "6233  Paperback,– 21 Nov 2016  3.3 out of 5 stars   9 customer reviews   \n",
       "6234   Paperback,– 8 Jun 2006  3.8 out of 5 stars   3 customer reviews   \n",
       "6235  Paperback,– 15 Jan 2015  3.5 out of 5 stars   4 customer reviews   \n",
       "6236  Paperback,– 21 Dec 2016  3.9 out of 5 stars   2 customer reviews   \n",
       "\n",
       "                                               Synopsis  \\\n",
       "0     THE HUNTERS return in their third brilliant no...   \n",
       "1     A layered portrait of a troubled genius for wh...   \n",
       "2     \"During the time men live without a common Pow...   \n",
       "3     A handful of grain is found in the pocket of a...   \n",
       "4     For seven decades, \"Life\" has been thrilling t...   \n",
       "...                                                 ...   \n",
       "6232  'F*cking brilliant' Sarah Knight\\n'Very funny'...   \n",
       "6233  In this gripping page-turner, an ex-agent on t...   \n",
       "6234  'The most refreshing and radiant love story yo...   \n",
       "6235  Frostfire by Amanda Hocking is the stunning fi...   \n",
       "6236  Six years ago, Sam Capra watched his brother, ...   \n",
       "\n",
       "                             Genre                          BookCategory  \\\n",
       "0       Action & Adventure (Books)                    Action & Adventure   \n",
       "1       Cinema & Broadcast (Books)  Biographies, Diaries & True Accounts   \n",
       "2          International Relations                                Humour   \n",
       "3     Contemporary Fiction (Books)             Crime, Thriller & Mystery   \n",
       "4            Photography Textbooks              Arts, Film & Photography   \n",
       "...                            ...                                   ...   \n",
       "6232          Anthropology (Books)                                Humour   \n",
       "6233  Contemporary Fiction (Books)             Crime, Thriller & Mystery   \n",
       "6234               Romance (Books)                               Romance   \n",
       "6235    Action & Adventure (Books)                    Action & Adventure   \n",
       "6236    Action & Adventure (Books)                    Action & Adventure   \n",
       "\n",
       "       Price  \n",
       "0     220.00  \n",
       "1     202.93  \n",
       "2     299.00  \n",
       "3     180.00  \n",
       "4     965.62  \n",
       "...      ...  \n",
       "6232  322.00  \n",
       "6233  421.00  \n",
       "6234  399.00  \n",
       "6235  319.00  \n",
       "6236  452.00  \n",
       "\n",
       "[6237 rows x 9 columns]"
      ]
     },
     "execution_count": 48,
     "metadata": {},
     "output_type": "execute_result"
    }
   ],
   "source": [
    "df"
   ]
  },
  {
   "cell_type": "code",
   "execution_count": 49,
   "metadata": {},
   "outputs": [
    {
     "name": "stdout",
     "output_type": "stream",
     "text": [
      "<class 'pandas.core.frame.DataFrame'>\n",
      "RangeIndex: 6237 entries, 0 to 6236\n",
      "Data columns (total 9 columns):\n",
      " #   Column        Non-Null Count  Dtype  \n",
      "---  ------        --------------  -----  \n",
      " 0   Title         6237 non-null   object \n",
      " 1   Author        6237 non-null   object \n",
      " 2   Edition       6237 non-null   object \n",
      " 3   Reviews       6237 non-null   object \n",
      " 4   Ratings       6237 non-null   object \n",
      " 5   Synopsis      6237 non-null   object \n",
      " 6   Genre         6237 non-null   object \n",
      " 7   BookCategory  6237 non-null   object \n",
      " 8   Price         6237 non-null   float64\n",
      "dtypes: float64(1), object(8)\n",
      "memory usage: 438.7+ KB\n"
     ]
    }
   ],
   "source": [
    "df.info()"
   ]
  },
  {
   "cell_type": "code",
   "execution_count": 50,
   "metadata": {},
   "outputs": [
    {
     "data": {
      "text/plain": [
       "(6237, 9)"
      ]
     },
     "execution_count": 50,
     "metadata": {},
     "output_type": "execute_result"
    }
   ],
   "source": [
    "df.shape"
   ]
  },
  {
   "cell_type": "code",
   "execution_count": 51,
   "metadata": {},
   "outputs": [],
   "source": [
    "import numpy as np\n",
    "import pandas as pd\n",
    "import matplotlib.pyplot as plt\n",
    "import seaborn as sns\n",
    "%matplotlib inline"
   ]
  },
  {
   "cell_type": "code",
   "execution_count": 52,
   "metadata": {},
   "outputs": [],
   "source": [
    "df['Reviews']= df['Reviews'].apply(lambda x: x.split()[0])\n",
    "df['Ratings']= df['Ratings'].apply(lambda x: x.split()[0])"
   ]
  },
  {
   "cell_type": "code",
   "execution_count": 53,
   "metadata": {},
   "outputs": [
    {
     "data": {
      "text/html": [
       "<div>\n",
       "<style scoped>\n",
       "    .dataframe tbody tr th:only-of-type {\n",
       "        vertical-align: middle;\n",
       "    }\n",
       "\n",
       "    .dataframe tbody tr th {\n",
       "        vertical-align: top;\n",
       "    }\n",
       "\n",
       "    .dataframe thead th {\n",
       "        text-align: right;\n",
       "    }\n",
       "</style>\n",
       "<table border=\"1\" class=\"dataframe\">\n",
       "  <thead>\n",
       "    <tr style=\"text-align: right;\">\n",
       "      <th></th>\n",
       "      <th>Title</th>\n",
       "      <th>Author</th>\n",
       "      <th>Edition</th>\n",
       "      <th>Reviews</th>\n",
       "      <th>Ratings</th>\n",
       "      <th>Synopsis</th>\n",
       "      <th>Genre</th>\n",
       "      <th>BookCategory</th>\n",
       "      <th>Price</th>\n",
       "    </tr>\n",
       "  </thead>\n",
       "  <tbody>\n",
       "    <tr>\n",
       "      <th>0</th>\n",
       "      <td>The Prisoner's Gold (The Hunters 3)</td>\n",
       "      <td>Chris Kuzneski</td>\n",
       "      <td>Paperback,– 10 Mar 2016</td>\n",
       "      <td>4.0</td>\n",
       "      <td>8</td>\n",
       "      <td>THE HUNTERS return in their third brilliant no...</td>\n",
       "      <td>Action &amp; Adventure (Books)</td>\n",
       "      <td>Action &amp; Adventure</td>\n",
       "      <td>220.00</td>\n",
       "    </tr>\n",
       "    <tr>\n",
       "      <th>1</th>\n",
       "      <td>Guru Dutt: A Tragedy in Three Acts</td>\n",
       "      <td>Arun Khopkar</td>\n",
       "      <td>Paperback,– 7 Nov 2012</td>\n",
       "      <td>3.9</td>\n",
       "      <td>14</td>\n",
       "      <td>A layered portrait of a troubled genius for wh...</td>\n",
       "      <td>Cinema &amp; Broadcast (Books)</td>\n",
       "      <td>Biographies, Diaries &amp; True Accounts</td>\n",
       "      <td>202.93</td>\n",
       "    </tr>\n",
       "    <tr>\n",
       "      <th>2</th>\n",
       "      <td>Leviathan (Penguin Classics)</td>\n",
       "      <td>Thomas Hobbes</td>\n",
       "      <td>Paperback,– 25 Feb 1982</td>\n",
       "      <td>4.8</td>\n",
       "      <td>6</td>\n",
       "      <td>\"During the time men live without a common Pow...</td>\n",
       "      <td>International Relations</td>\n",
       "      <td>Humour</td>\n",
       "      <td>299.00</td>\n",
       "    </tr>\n",
       "    <tr>\n",
       "      <th>3</th>\n",
       "      <td>A Pocket Full of Rye (Miss Marple)</td>\n",
       "      <td>Agatha Christie</td>\n",
       "      <td>Paperback,– 5 Oct 2017</td>\n",
       "      <td>4.1</td>\n",
       "      <td>13</td>\n",
       "      <td>A handful of grain is found in the pocket of a...</td>\n",
       "      <td>Contemporary Fiction (Books)</td>\n",
       "      <td>Crime, Thriller &amp; Mystery</td>\n",
       "      <td>180.00</td>\n",
       "    </tr>\n",
       "    <tr>\n",
       "      <th>4</th>\n",
       "      <td>LIFE 70 Years of Extraordinary Photography</td>\n",
       "      <td>Editors of Life</td>\n",
       "      <td>Hardcover,– 10 Oct 2006</td>\n",
       "      <td>5.0</td>\n",
       "      <td>1</td>\n",
       "      <td>For seven decades, \"Life\" has been thrilling t...</td>\n",
       "      <td>Photography Textbooks</td>\n",
       "      <td>Arts, Film &amp; Photography</td>\n",
       "      <td>965.62</td>\n",
       "    </tr>\n",
       "  </tbody>\n",
       "</table>\n",
       "</div>"
      ],
      "text/plain": [
       "                                        Title           Author  \\\n",
       "0         The Prisoner's Gold (The Hunters 3)   Chris Kuzneski   \n",
       "1          Guru Dutt: A Tragedy in Three Acts     Arun Khopkar   \n",
       "2                Leviathan (Penguin Classics)    Thomas Hobbes   \n",
       "3          A Pocket Full of Rye (Miss Marple)  Agatha Christie   \n",
       "4  LIFE 70 Years of Extraordinary Photography  Editors of Life   \n",
       "\n",
       "                   Edition Reviews Ratings  \\\n",
       "0  Paperback,– 10 Mar 2016     4.0       8   \n",
       "1   Paperback,– 7 Nov 2012     3.9      14   \n",
       "2  Paperback,– 25 Feb 1982     4.8       6   \n",
       "3   Paperback,– 5 Oct 2017     4.1      13   \n",
       "4  Hardcover,– 10 Oct 2006     5.0       1   \n",
       "\n",
       "                                            Synopsis  \\\n",
       "0  THE HUNTERS return in their third brilliant no...   \n",
       "1  A layered portrait of a troubled genius for wh...   \n",
       "2  \"During the time men live without a common Pow...   \n",
       "3  A handful of grain is found in the pocket of a...   \n",
       "4  For seven decades, \"Life\" has been thrilling t...   \n",
       "\n",
       "                          Genre                          BookCategory   Price  \n",
       "0    Action & Adventure (Books)                    Action & Adventure  220.00  \n",
       "1    Cinema & Broadcast (Books)  Biographies, Diaries & True Accounts  202.93  \n",
       "2       International Relations                                Humour  299.00  \n",
       "3  Contemporary Fiction (Books)             Crime, Thriller & Mystery  180.00  \n",
       "4         Photography Textbooks              Arts, Film & Photography  965.62  "
      ]
     },
     "execution_count": 53,
     "metadata": {},
     "output_type": "execute_result"
    }
   ],
   "source": [
    "df.head()"
   ]
  },
  {
   "cell_type": "code",
   "execution_count": 54,
   "metadata": {},
   "outputs": [],
   "source": [
    "df['Reviews']= df['Reviews'].astype('float64')"
   ]
  },
  {
   "cell_type": "code",
   "execution_count": 55,
   "metadata": {},
   "outputs": [
    {
     "name": "stdout",
     "output_type": "stream",
     "text": [
      "<class 'pandas.core.frame.DataFrame'>\n",
      "RangeIndex: 6237 entries, 0 to 6236\n",
      "Data columns (total 9 columns):\n",
      " #   Column        Non-Null Count  Dtype  \n",
      "---  ------        --------------  -----  \n",
      " 0   Title         6237 non-null   object \n",
      " 1   Author        6237 non-null   object \n",
      " 2   Edition       6237 non-null   object \n",
      " 3   Reviews       6237 non-null   float64\n",
      " 4   Ratings       6237 non-null   object \n",
      " 5   Synopsis      6237 non-null   object \n",
      " 6   Genre         6237 non-null   object \n",
      " 7   BookCategory  6237 non-null   object \n",
      " 8   Price         6237 non-null   float64\n",
      "dtypes: float64(2), object(7)\n",
      "memory usage: 438.7+ KB\n"
     ]
    }
   ],
   "source": [
    "df.info()"
   ]
  },
  {
   "cell_type": "code",
   "execution_count": 56,
   "metadata": {},
   "outputs": [
    {
     "data": {
      "text/plain": [
       "array(['Paperback,– 10 Mar 2016', 'Paperback,– 7 Nov 2012',\n",
       "       'Paperback,– 25 Feb 1982', ..., 'Paperback,– 26 Sep 2006',\n",
       "       'Paperback,– 21 Nov 2016', 'Paperback,– 15 Jan 2015'], dtype=object)"
      ]
     },
     "execution_count": 56,
     "metadata": {},
     "output_type": "execute_result"
    }
   ],
   "source": [
    "df['Edition'].unique()"
   ]
  },
  {
   "cell_type": "code",
   "execution_count": 57,
   "metadata": {},
   "outputs": [
    {
     "data": {
      "text/plain": [
       "array([4. , 3.9, 4.8, 4.1, 5. , 4.5, 4.4, 4.7, 4.2, 4.9, 3.5, 3.8, 4.3,\n",
       "       3.1, 4.6, 2. , 3.7, 3.2, 2.6, 2.8, 3.4, 2.9, 3.3, 3. , 2.5, 1. ,\n",
       "       3.6, 2.7, 1.5, 2.3, 1.7, 2.2, 1.4, 2.4, 1.6, 2.1])"
      ]
     },
     "execution_count": 57,
     "metadata": {},
     "output_type": "execute_result"
    }
   ],
   "source": [
    "df['Reviews'].unique()"
   ]
  },
  {
   "cell_type": "code",
   "execution_count": 58,
   "metadata": {},
   "outputs": [],
   "source": [
    "def fix_ratings(blob):\n",
    "    temp = blob.split(',')\n",
    "    if len(temp) == 1:\n",
    "        return temp[0]\n",
    "    else:\n",
    "        result = ''\n",
    "        for i in temp:\n",
    "            result = result+i\n",
    "        return result"
   ]
  },
  {
   "cell_type": "code",
   "execution_count": 59,
   "metadata": {},
   "outputs": [],
   "source": [
    "df['Ratings'] = df['Ratings'].apply(fix_ratings)"
   ]
  },
  {
   "cell_type": "code",
   "execution_count": 15,
   "metadata": {},
   "outputs": [
    {
     "data": {
      "text/plain": [
       "array(['8', '14', '6', '13', '1', '72', '16', '111', '132', '17', '4',\n",
       "       '3', '5', '2', '23', '76', '10', '9', '15', '34', '32', '49', '62',\n",
       "       '61', '7', '18', '98', '12', '97', '285', '29', '27', '267', '24',\n",
       "       '146', '95', '234', '35', '66', '20', '39', '171', '399', '42',\n",
       "       '142', '11', '839', '47', '165', '30', '53', '77', '33', '37',\n",
       "       '54', '28', '50', '197', '26', '114', '46', '51', '161', '135',\n",
       "       '41', '156', '1416', '93', '221', '36', '154', '74', '45', '240',\n",
       "       '55', '19', '48', '404', '245', '22', '292', '25', '75', '381',\n",
       "       '44', '443', '425', '21', '238', '84', '68', '108', '52', '57',\n",
       "       '109', '89', '304', '96', '419', '205', '85', '960', '71', '167',\n",
       "       '58', '40', '102', '101', '65', '70', '106', '922', '31', '38',\n",
       "       '63', '177', '138', '164', '257', '207', '64', '56', '196', '82',\n",
       "       '1558', '567', '60', '80', '303', '73', '193', '155', '798', '128',\n",
       "       '87', '90', '286', '565', '137', '99', '403', '277', '902', '59',\n",
       "       '861', '67', '815', '227', '119', '474', '69', '247', '414', '86',\n",
       "       '432', '1142', '168', '382', '79', '141', '220', '732', '2048',\n",
       "       '1097', '226', '649', '160', '140', '2081', '405', '121', '88',\n",
       "       '342', '190', '83', '250', '217', '115', '224', '43', '136', '230',\n",
       "       '283', '184', '186', '110', '187', '81', '107', '355', '2084',\n",
       "       '116', '862', '370', '92', '6090', '215', '893', '261', '129',\n",
       "       '113', '206', '159', '540', '413', '307', '351', '390', '143',\n",
       "       '185', '282', '150', '120', '246', '126', '784', '174', '397',\n",
       "       '172', '158', '863', '291', '225', '1227', '366', '218', '100',\n",
       "       '337', '973', '310', '301', '212', '764', '279', '255', '251',\n",
       "       '653', '894', '3135', '958', '134', '127', '420', '139', '800',\n",
       "       '94', '178', '145', '967', '1392', '264', '122', '219', '505',\n",
       "       '125', '407', '210', '133', '151', '188', '166', '656', '175',\n",
       "       '153', '1684', '149', '163', '199', '157', '203', '331', '970',\n",
       "       '305', '327', '1403', '180', '268', '104', '123', '290', '396',\n",
       "       '287', '244', '670', '223', '117', '867', '91', '105', '332',\n",
       "       '152', '379', '278', '144', '606', '1248', '112', '295', '450',\n",
       "       '298', '899', '570', '871', '356', '249', '179', '545', '494',\n",
       "       '358', '853', '280', '118', '1563', '1259', '200', '2255', '727',\n",
       "       '568', '429', '296', '124', '252', '78', '695', '3075', '434',\n",
       "       '353', '328', '170', '1256', '162', '270', '297', '615', '421',\n",
       "       '253', '325', '308', '804', '551', '288', '483'], dtype=object)"
      ]
     },
     "execution_count": 15,
     "metadata": {},
     "output_type": "execute_result"
    }
   ],
   "source": [
    "df['Ratings'].unique()"
   ]
  },
  {
   "cell_type": "code",
   "execution_count": 60,
   "metadata": {},
   "outputs": [],
   "source": [
    "df['year']= df['Edition'].apply(lambda x: x.split()[-1])"
   ]
  },
  {
   "cell_type": "code",
   "execution_count": 61,
   "metadata": {},
   "outputs": [
    {
     "data": {
      "text/plain": [
       "array(['2016', '2012', '1982', '2017', '2006', '2009', '2018', '2015',\n",
       "       '2013', '1999', '2002', '2011', '1991', '2014', '1989', '2000',\n",
       "       '2005', '2019', '2008', '2004', '2010', '2007', '2001', '1969',\n",
       "       '1993', '1992', '2003', '1996', 'Import', '1997', '1995', 'NTSC',\n",
       "       '1987', '1986', '1990', '1988', '1981', '1976', '1994', '1998',\n",
       "       '1977', '1974', '1983', '1971', '1985', '1978', 'Facsimile', 'set',\n",
       "       'Edition', '1964', '1984', '1980', 'Unabridged', '1979', 'Print',\n",
       "       '1960', '1970', '1975', '1905', '1900', 'Audiobook', '1961',\n",
       "       '1925', '1973'], dtype=object)"
      ]
     },
     "execution_count": 61,
     "metadata": {},
     "output_type": "execute_result"
    }
   ],
   "source": [
    "df['year'].unique()"
   ]
  },
  {
   "cell_type": "code",
   "execution_count": 62,
   "metadata": {},
   "outputs": [],
   "source": [
    "df['Ratings']= df['Ratings'].astype('int32')"
   ]
  },
  {
   "cell_type": "code",
   "execution_count": 63,
   "metadata": {},
   "outputs": [
    {
     "data": {
      "text/plain": [
       "array(['2016', '2012', '1982', '2017', '2006', '2009', '2018', '2015',\n",
       "       '2013', '1999', '2002', '2011', '1991', '2014', '1989', '2000',\n",
       "       '2005', '2019', '2008', '2004', '2010', '2007', '2001', '1969',\n",
       "       '1993', '1992', '2003', '1996', 'Import', '1997', '1995', 'NTSC',\n",
       "       '1987', '1986', '1990', '1988', '1981', '1976', '1994', '1998',\n",
       "       '1977', '1974', '1983', '1971', '1985', '1978', 'Facsimile', 'set',\n",
       "       'Edition', '1964', '1984', '1980', 'Unabridged', '1979', 'Print',\n",
       "       '1960', '1970', '1975', '1905', '1900', 'Audiobook', '1961',\n",
       "       '1925', '1973'], dtype=object)"
      ]
     },
     "execution_count": 63,
     "metadata": {},
     "output_type": "execute_result"
    }
   ],
   "source": [
    "df['year'].unique()"
   ]
  },
  {
   "cell_type": "code",
   "execution_count": 20,
   "metadata": {},
   "outputs": [],
   "source": [
    "def correction(col):\n",
    "    if col[0] not in [str(i) for i in range (0,10)]:\n",
    "        return '0000'\n",
    "    else:\n",
    "        return col"
   ]
  },
  {
   "cell_type": "code",
   "execution_count": 65,
   "metadata": {},
   "outputs": [],
   "source": [
    "df['year']= df['year'].apply(correction)"
   ]
  },
  {
   "cell_type": "code",
   "execution_count": 66,
   "metadata": {},
   "outputs": [],
   "source": [
    "df['year']= df['year'].astype('int64')"
   ]
  },
  {
   "cell_type": "code",
   "execution_count": 67,
   "metadata": {},
   "outputs": [],
   "source": [
    "df['Binding']= df['Edition'].apply(lambda x: x.split('-')[0].split(',')[0])"
   ]
  },
  {
   "cell_type": "code",
   "execution_count": 68,
   "metadata": {},
   "outputs": [
    {
     "data": {
      "text/plain": [
       "array(['Paperback', 'Hardcover', 'Mass Market Paperback', 'Sheet music',\n",
       "       'Flexibound', 'Plastic Comb', 'Loose Leaf', 'Tankobon Softcover',\n",
       "       'Perfect Paperback', 'Board book', 'Cards', 'Spiral', '(Kannada)',\n",
       "       'Product Bundle', 'Library Binding', '(German)', 'Leather Bound',\n",
       "       '(French)', '(Spanish)'], dtype=object)"
      ]
     },
     "execution_count": 68,
     "metadata": {},
     "output_type": "execute_result"
    }
   ],
   "source": [
    "df['Binding'].unique()"
   ]
  },
  {
   "cell_type": "code",
   "execution_count": 69,
   "metadata": {},
   "outputs": [],
   "source": [
    "def corr(col):\n",
    "    if col[0]== '(':\n",
    "        return 'Hardcover'\n",
    "    else:\n",
    "        return col"
   ]
  },
  {
   "cell_type": "code",
   "execution_count": 70,
   "metadata": {},
   "outputs": [],
   "source": [
    "df['Binding']= df['Binding'].apply(corr)"
   ]
  },
  {
   "cell_type": "code",
   "execution_count": 71,
   "metadata": {},
   "outputs": [
    {
     "data": {
      "text/plain": [
       "array(['Paperback', 'Hardcover', 'Mass Market Paperback', 'Sheet music',\n",
       "       'Flexibound', 'Plastic Comb', 'Loose Leaf', 'Tankobon Softcover',\n",
       "       'Perfect Paperback', 'Board book', 'Cards', 'Spiral',\n",
       "       'Product Bundle', 'Library Binding', 'Leather Bound'], dtype=object)"
      ]
     },
     "execution_count": 71,
     "metadata": {},
     "output_type": "execute_result"
    }
   ],
   "source": [
    "df['Binding'].unique()"
   ]
  },
  {
   "cell_type": "code",
   "execution_count": 73,
   "metadata": {},
   "outputs": [
    {
     "data": {
      "text/plain": [
       "Index(['Title', 'Author', 'Edition', 'Reviews', 'Ratings', 'Synopsis', 'Genre',\n",
       "       'BookCategory', 'Price', 'year', 'Binding'],\n",
       "      dtype='object')"
      ]
     },
     "execution_count": 73,
     "metadata": {},
     "output_type": "execute_result"
    }
   ],
   "source": [
    "df.columns"
   ]
  },
  {
   "cell_type": "code",
   "execution_count": 74,
   "metadata": {},
   "outputs": [
    {
     "data": {
      "text/html": [
       "<div>\n",
       "<style scoped>\n",
       "    .dataframe tbody tr th:only-of-type {\n",
       "        vertical-align: middle;\n",
       "    }\n",
       "\n",
       "    .dataframe tbody tr th {\n",
       "        vertical-align: top;\n",
       "    }\n",
       "\n",
       "    .dataframe thead th {\n",
       "        text-align: right;\n",
       "    }\n",
       "</style>\n",
       "<table border=\"1\" class=\"dataframe\">\n",
       "  <thead>\n",
       "    <tr style=\"text-align: right;\">\n",
       "      <th></th>\n",
       "      <th>Title</th>\n",
       "      <th>Author</th>\n",
       "      <th>Edition</th>\n",
       "      <th>Reviews</th>\n",
       "      <th>Ratings</th>\n",
       "      <th>Synopsis</th>\n",
       "      <th>Genre</th>\n",
       "      <th>BookCategory</th>\n",
       "      <th>Price</th>\n",
       "      <th>year</th>\n",
       "      <th>Binding</th>\n",
       "    </tr>\n",
       "  </thead>\n",
       "  <tbody>\n",
       "    <tr>\n",
       "      <th>0</th>\n",
       "      <td>The Prisoner's Gold (The Hunters 3)</td>\n",
       "      <td>Chris Kuzneski</td>\n",
       "      <td>Paperback,– 10 Mar 2016</td>\n",
       "      <td>4.0</td>\n",
       "      <td>8</td>\n",
       "      <td>THE HUNTERS return in their third brilliant no...</td>\n",
       "      <td>Action &amp; Adventure (Books)</td>\n",
       "      <td>Action &amp; Adventure</td>\n",
       "      <td>220.00</td>\n",
       "      <td>2016</td>\n",
       "      <td>Paperback</td>\n",
       "    </tr>\n",
       "    <tr>\n",
       "      <th>1</th>\n",
       "      <td>Guru Dutt: A Tragedy in Three Acts</td>\n",
       "      <td>Arun Khopkar</td>\n",
       "      <td>Paperback,– 7 Nov 2012</td>\n",
       "      <td>3.9</td>\n",
       "      <td>14</td>\n",
       "      <td>A layered portrait of a troubled genius for wh...</td>\n",
       "      <td>Cinema &amp; Broadcast (Books)</td>\n",
       "      <td>Biographies, Diaries &amp; True Accounts</td>\n",
       "      <td>202.93</td>\n",
       "      <td>2012</td>\n",
       "      <td>Paperback</td>\n",
       "    </tr>\n",
       "    <tr>\n",
       "      <th>2</th>\n",
       "      <td>Leviathan (Penguin Classics)</td>\n",
       "      <td>Thomas Hobbes</td>\n",
       "      <td>Paperback,– 25 Feb 1982</td>\n",
       "      <td>4.8</td>\n",
       "      <td>6</td>\n",
       "      <td>\"During the time men live without a common Pow...</td>\n",
       "      <td>International Relations</td>\n",
       "      <td>Humour</td>\n",
       "      <td>299.00</td>\n",
       "      <td>1982</td>\n",
       "      <td>Paperback</td>\n",
       "    </tr>\n",
       "    <tr>\n",
       "      <th>3</th>\n",
       "      <td>A Pocket Full of Rye (Miss Marple)</td>\n",
       "      <td>Agatha Christie</td>\n",
       "      <td>Paperback,– 5 Oct 2017</td>\n",
       "      <td>4.1</td>\n",
       "      <td>13</td>\n",
       "      <td>A handful of grain is found in the pocket of a...</td>\n",
       "      <td>Contemporary Fiction (Books)</td>\n",
       "      <td>Crime, Thriller &amp; Mystery</td>\n",
       "      <td>180.00</td>\n",
       "      <td>2017</td>\n",
       "      <td>Paperback</td>\n",
       "    </tr>\n",
       "    <tr>\n",
       "      <th>4</th>\n",
       "      <td>LIFE 70 Years of Extraordinary Photography</td>\n",
       "      <td>Editors of Life</td>\n",
       "      <td>Hardcover,– 10 Oct 2006</td>\n",
       "      <td>5.0</td>\n",
       "      <td>1</td>\n",
       "      <td>For seven decades, \"Life\" has been thrilling t...</td>\n",
       "      <td>Photography Textbooks</td>\n",
       "      <td>Arts, Film &amp; Photography</td>\n",
       "      <td>965.62</td>\n",
       "      <td>2006</td>\n",
       "      <td>Hardcover</td>\n",
       "    </tr>\n",
       "  </tbody>\n",
       "</table>\n",
       "</div>"
      ],
      "text/plain": [
       "                                        Title           Author  \\\n",
       "0         The Prisoner's Gold (The Hunters 3)   Chris Kuzneski   \n",
       "1          Guru Dutt: A Tragedy in Three Acts     Arun Khopkar   \n",
       "2                Leviathan (Penguin Classics)    Thomas Hobbes   \n",
       "3          A Pocket Full of Rye (Miss Marple)  Agatha Christie   \n",
       "4  LIFE 70 Years of Extraordinary Photography  Editors of Life   \n",
       "\n",
       "                   Edition  Reviews  Ratings  \\\n",
       "0  Paperback,– 10 Mar 2016      4.0        8   \n",
       "1   Paperback,– 7 Nov 2012      3.9       14   \n",
       "2  Paperback,– 25 Feb 1982      4.8        6   \n",
       "3   Paperback,– 5 Oct 2017      4.1       13   \n",
       "4  Hardcover,– 10 Oct 2006      5.0        1   \n",
       "\n",
       "                                            Synopsis  \\\n",
       "0  THE HUNTERS return in their third brilliant no...   \n",
       "1  A layered portrait of a troubled genius for wh...   \n",
       "2  \"During the time men live without a common Pow...   \n",
       "3  A handful of grain is found in the pocket of a...   \n",
       "4  For seven decades, \"Life\" has been thrilling t...   \n",
       "\n",
       "                          Genre                          BookCategory   Price  \\\n",
       "0    Action & Adventure (Books)                    Action & Adventure  220.00   \n",
       "1    Cinema & Broadcast (Books)  Biographies, Diaries & True Accounts  202.93   \n",
       "2       International Relations                                Humour  299.00   \n",
       "3  Contemporary Fiction (Books)             Crime, Thriller & Mystery  180.00   \n",
       "4         Photography Textbooks              Arts, Film & Photography  965.62   \n",
       "\n",
       "   year    Binding  \n",
       "0  2016  Paperback  \n",
       "1  2012  Paperback  \n",
       "2  1982  Paperback  \n",
       "3  2017  Paperback  \n",
       "4  2006  Hardcover  "
      ]
     },
     "execution_count": 74,
     "metadata": {},
     "output_type": "execute_result"
    }
   ],
   "source": [
    "df.head()"
   ]
  },
  {
   "cell_type": "code",
   "execution_count": 77,
   "metadata": {},
   "outputs": [
    {
     "data": {
      "text/plain": [
       "Agatha Christie    69\n",
       "Ladybird           49\n",
       "DK                 48\n",
       "Herge              34\n",
       "Albert Uderzo      34\n",
       "                   ..\n",
       "Agrawal P. K.       1\n",
       "Daniel Susskind     1\n",
       "Sydney Padua        1\n",
       "Sophie Jordan       1\n",
       "C. J. Sansom        1\n",
       "Name: Author, Length: 3679, dtype: int64"
      ]
     },
     "execution_count": 77,
     "metadata": {},
     "output_type": "execute_result"
    }
   ],
   "source": [
    "df['Author'].value_counts()"
   ]
  },
  {
   "cell_type": "code",
   "execution_count": 1,
   "metadata": {},
   "outputs": [
    {
     "name": "stdout",
     "output_type": "stream",
     "text": [
      "51\n"
     ]
    }
   ],
   "source": [
    "class Person:\n",
    "  def __init__(self, id):\n",
    "    self.id = id\n",
    "\n",
    "sam = Person(100)\n",
    "\n",
    "sam.__dict__['age'] = 49\n",
    "\n",
    "print (sam.age + len(sam.__dict__))"
   ]
  },
  {
   "cell_type": "code",
   "execution_count": null,
   "metadata": {},
   "outputs": [],
   "source": []
  }
 ],
 "metadata": {
  "kernelspec": {
   "display_name": "Python 3",
   "language": "python",
   "name": "python3"
  },
  "language_info": {
   "codemirror_mode": {
    "name": "ipython",
    "version": 3
   },
   "file_extension": ".py",
   "mimetype": "text/x-python",
   "name": "python",
   "nbconvert_exporter": "python",
   "pygments_lexer": "ipython3",
   "version": "3.8.5"
  }
 },
 "nbformat": 4,
 "nbformat_minor": 4
}
